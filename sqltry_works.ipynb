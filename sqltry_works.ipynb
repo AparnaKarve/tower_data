{
 "cells": [
  {
   "cell_type": "code",
   "execution_count": null,
   "metadata": {},
   "outputs": [],
   "source": [
    "!pip install psycopg2"
   ]
  },
  {
   "cell_type": "code",
   "execution_count": null,
   "metadata": {},
   "outputs": [],
   "source": [
    "import psycopg2\n",
    "\n",
    "con = psycopg2.connect(\n",
    "        dbname=\"akarve\",\n",
    "        user=\"postgres\",\n",
    "        password=\"postgres\",\n",
    "        host=\"localhost\",\n",
    "        port=5436,\n",
    "    )\n",
    "con"
   ]
  },
  {
   "cell_type": "code",
   "execution_count": null,
   "metadata": {},
   "outputs": [],
   "source": [
    "cursor = con.cursor()"
   ]
  },
  {
   "cell_type": "code",
   "execution_count": null,
   "metadata": {},
   "outputs": [],
   "source": [
    "from psycopg2 import sql"
   ]
  },
  {
   "cell_type": "code",
   "execution_count": null,
   "metadata": {},
   "outputs": [],
   "source": [
    "from collections import OrderedDict"
   ]
  },
  {
   "cell_type": "code",
   "execution_count": null,
   "metadata": {},
   "outputs": [],
   "source": [
    "system_id_metadata = {\n",
    "    'datatype_csv': 'bigint',\n",
    "    'datatype_table': 'bigint',\n",
    "    'field_name': 'system_id',\n",
    "    'encrypt': False\n",
    "}\n",
    "cluster_id_metadata = {\n",
    "    'datatype_csv': 'bigint',\n",
    "    'datatype_table': 'bigint',\n",
    "    'field_name': 'cluster_id',\n",
    "    'encrypt': False\n",
    "}\n",
    "id_metadata = {\n",
    "    'datatype_csv': 'bigint',\n",
    "    'datatype_table': 'bigint',\n",
    "    'field_name': 'id',\n",
    "    'encrypt': False\n",
    "}\n",
    "created_metadata = {\n",
    "    'datatype_csv': 'timestamp',\n",
    "    'datatype_table': 'timestamp',\n",
    "    'field_name': 'created',\n",
    "    'encrypt': False\n",
    "}\n",
    "uuid_metadata = {\n",
    "    'datatype_csv': 'varchar',\n",
    "    'datatype_table': 'varchar',\n",
    "    'field_name': 'uuid',\n",
    "    'encrypt': False\n",
    "}\n",
    "parent_uuid_metadata = {\n",
    "    'datatype_csv': 'varchar',\n",
    "    'datatype_table': 'varchar',\n",
    "    'field_name': 'parent_uuid',\n",
    "    'encrypt': False\n",
    "}\n",
    "\n",
    "event_metadata = {\n",
    "    'datatype_csv': 'varchar',\n",
    "    'datatype_table': 'varchar',\n",
    "    'field_name': 'event',\n",
    "    'encrypt': False\n",
    "}\n",
    "task_action_metadata = {\n",
    "    'datatype_csv': 'varchar',\n",
    "    'datatype_table': 'bigint REFERENCES task_action_tmp(id)',\n",
    "    'field_name': 'task_action',\n",
    "    'encrypt': True\n",
    "}\n",
    "failed_metadata = {\n",
    "    'datatype_csv': 'boolean',\n",
    "    'datatype_table': 'boolean',\n",
    "    'field_name': 'failed',\n",
    "    'encrypt': False\n",
    "}\n",
    "changed_metadata = {\n",
    "    'datatype_csv': 'boolean',\n",
    "    'datatype_table': 'boolean',\n",
    "    'field_name': 'changed',\n",
    "    'encrypt': False\n",
    "}\n",
    "playbook_metadata = {\n",
    "    'datatype_csv': 'varchar',\n",
    "    'datatype_table': 'bigint REFERENCES playbook_tmp(id)',\n",
    "    'field_name': 'playbook',\n",
    "    'encrypt': True\n",
    "}\n",
    "play_metadata = {\n",
    "    'datatype_csv': 'varchar',\n",
    "    'datatype_table': 'bigint REFERENCES play_tmp(id)',\n",
    "    'field_name': 'play',\n",
    "    'encrypt': True\n",
    "}\n",
    "task_metadata = {\n",
    "    'datatype_csv': 'varchar',\n",
    "    'datatype_table': 'bigint REFERENCES task_tmp(id)',\n",
    "    'field_name': 'task',\n",
    "    'encrypt': True\n",
    "}\n",
    "role_metadata = {\n",
    "    'datatype_csv': 'varchar',\n",
    "    'datatype_table': 'bigint REFERENCES role_tmp(id)',\n",
    "    'field_name': 'role',\n",
    "    'encrypt': True\n",
    "}\n",
    "job_id = {\n",
    "    'datatype_csv': 'bigint',\n",
    "    'datatype_table': 'bigint',\n",
    "    'field_name': 'job_id',\n",
    "    'encrypt': False\n",
    "}\n",
    "host_id_metadata = {\n",
    "    'datatype_csv': 'bigint',\n",
    "    'datatype_table': 'bigint',\n",
    "    'field_name': 'host_id',\n",
    "    'encrypt': False\n",
    "}\n",
    "host_name_metadata = {\n",
    "    'datatype_csv': 'varchar',\n",
    "    'datatype_table': 'bigint REFERENCES host_tmp(id)',\n",
    "    'field_name': 'host',\n",
    "    'encrypt': True\n",
    "}\n",
    "start_metadata = {\n",
    "    'datatype_csv': 'timestamp',\n",
    "    'datatype_table': 'timestamp',\n",
    "    'field_name': 'start',\n",
    "    'encrypt': False\n",
    "}\n",
    "end_metadata = {\n",
    "    'datatype_csv': 'timestamp',\n",
    "    'datatype_table': 'timestamp',\n",
    "    'field_name': 'end',\n",
    "    'encrypt': False\n",
    "}\n",
    "duration_metadata = {\n",
    "    'datatype_csv': 'varchar',\n",
    "    'datatype_table': 'float',\n",
    "    'field_name': 'duration',\n",
    "    'encrypt': False\n",
    "}\n",
    "warnings_metadata = {\n",
    "    'datatype_csv': 'varchar',\n",
    "    'datatype_table': 'varchar',\n",
    "    'field_name': 'warnings',\n",
    "    'encrypt': True\n",
    "}\n",
    "deprecations_metadata = {\n",
    "    'datatype_csv': 'varchar',\n",
    "    'datatype_table': 'varchar',\n",
    "    'field_name': 'deprecations',\n",
    "    'encrypt': True\n",
    "}"
   ]
  },
  {
   "cell_type": "code",
   "execution_count": null,
   "metadata": {},
   "outputs": [],
   "source": [
    "job_events_tmp_dict = {\n",
    "   'system_id': system_id_metadata,\n",
    "   'cluster_id': cluster_id_metadata,\n",
    "   'id': id_metadata,\n",
    "   'created': created_metadata,\n",
    "   'uuid': uuid_metadata,\n",
    "   'parent_uuid': parent_uuid_metadata,\n",
    "   'event': event_metadata,\n",
    "   'task_action': task_action_metadata,\n",
    "   'failed': failed_metadata,\n",
    "   'changed': changed_metadata,\n",
    "   'playbook': playbook_metadata,\n",
    "   'play': play_metadata,\n",
    "   'task': task_metadata,\n",
    "   'role': role_metadata,\n",
    "   'job_id': job_id,\n",
    "   'host_id': host_id_metadata,\n",
    "   'host_name': host_name_metadata,\n",
    "   'start': start_metadata,\n",
    "   'end': end_metadata,\n",
    "   'duration': duration_metadata,\n",
    "   'warnings': warnings_metadata,\n",
    "   'deprecations': deprecations_metadata\n",
    "}\n",
    "\n",
    "jo = OrderedDict(job_events_tmp_dict.items())\n",
    "jo\n"
   ]
  },
  {
   "cell_type": "code",
   "execution_count": null,
   "metadata": {},
   "outputs": [],
   "source": [
    "for item in jo.items():\n",
    "    print(f\"{item[0]} {type(item[1])}\")"
   ]
  },
  {
   "cell_type": "code",
   "execution_count": null,
   "metadata": {},
   "outputs": [],
   "source": [
    "whitelist_varchar_fields = {\n",
    " 'task_action': 'task_action',\n",
    " 'playbook': 'playbook',\n",
    " 'play': 'play',\n",
    " 'task': 'task',\n",
    " 'role': 'role',\n",
    " 'host_name': 'host',\n",
    " 'warnings': 'warnings',\n",
    " 'deprecations': 'deprecations'\n",
    "}\n",
    "varchar_fields = ([whitelist_varchar_fields[field] for field, field_type in jo.items() if field in whitelist_varchar_fields.keys()])"
   ]
  },
  {
   "cell_type": "code",
   "execution_count": null,
   "metadata": {},
   "outputs": [],
   "source": [
    "def tmp_table(table_name, datatype):\n",
    "#     column_types = [f\"{sql.Identifier(c[0]).as_string(con)} {c[1]}\" for c in jo.items()]\n",
    "\n",
    "    model_query = sql.SQL('''\n",
    "        DROP TABLE IF EXISTS {table} CASCADE;\n",
    "        CREATE TABLE {table}({fields_with_types});\n",
    "    ''') \n",
    "#     fields_with_types = sql.SQL(\",\".join([f\"{sql.Identifier(c[0]).as_string(con)} {c[1]} REFERENCES {whitelist_varchar_fields.get(c[0], c[0])}_tmp(id)\" for c in jo.items()]))\n",
    "    fields_with_types = sql.SQL(\",\".join([f\"{sql.Identifier(c[0]).as_string(con)} {c[1][datatype]}\" for c in jo.items()]))\n",
    "\n",
    "    return model_query.format(table=sql.Identifier(f\"{table_name}\"), fields_with_types=fields_with_types)\n"
   ]
  },
  {
   "cell_type": "code",
   "execution_count": null,
   "metadata": {},
   "outputs": [],
   "source": [
    "query = tmp_table(\"job_events_tmp\", \"datatype_csv\")\n",
    "query"
   ]
  },
  {
   "cell_type": "code",
   "execution_count": null,
   "metadata": {},
   "outputs": [],
   "source": [
    "query = tmp_table(\"job_events_fk_tmp\", \"datatype_table\")\n",
    "query"
   ]
  },
  {
   "cell_type": "code",
   "execution_count": null,
   "metadata": {},
   "outputs": [],
   "source": [
    "column_types = [f\"{sql.Identifier(c[0]).as_string(con)} {c[1]}\" for c in jo.items()]\n",
    "\n",
    "table_name = sql.Identifier(\"job_events_tmp\")\n",
    "\n",
    "model_query = sql.SQL('''\n",
    "    DROP TABLE IF EXISTS {table_name} CASCADE;\n",
    "    CREATE TABLE {table_name}({fields_with_types});\n",
    "''') \n",
    "fields_with_types = sql.SQL(\",\".join([f\"{sql.Identifier(c[0]).as_string(con)} {c[1]}\" for c in jo.items()]))\n",
    "\n",
    "query = model_query.format(table_name=table_name, fields_with_types=fields_with_types)\n",
    "query"
   ]
  },
  {
   "cell_type": "code",
   "execution_count": null,
   "metadata": {},
   "outputs": [],
   "source": [
    "cursor.execute(query)"
   ]
  },
  {
   "cell_type": "code",
   "execution_count": null,
   "metadata": {},
   "outputs": [],
   "source": [
    "con.commit()"
   ]
  },
  {
   "cell_type": "code",
   "execution_count": null,
   "metadata": {},
   "outputs": [],
   "source": [
    "varchar_tmp_table_query = '''\n",
    "    DROP TABLE IF EXISTS {varchar_tmp_table} CASCADE;\n",
    "    CREATE TABLE {varchar_tmp_table} (\n",
    "        id serial primary key,\n",
    "        name varchar NOT NULL UNIQUE,\n",
    "        hash varchar,\n",
    "        CHECK (char_length(name) > 0)\n",
    "    );\n",
    "    \n",
    "    DROP TABLE IF EXISTS {varchar_tmp_map_table} CASCADE;\n",
    "    CREATE TABLE {varchar_tmp_map_table} (\n",
    "        id bigint,\n",
    "        tmp_id bigint\n",
    "    );\n",
    "'''\n",
    "\n",
    "master_varchar_tmp_table_query = ''\n",
    "for f in jo.items():\n",
    "    if f[1]['encrypt']:\n",
    "        q = varchar_tmp_table_query.format(varchar_tmp_table=f\"{f[1]['field_name']}_tmp\", varchar_tmp_map_table=f\"{f[1]['field_name']}_map_tmp\")\n",
    "        master_varchar_tmp_table_query += q\n",
    "    "
   ]
  },
  {
   "cell_type": "code",
   "execution_count": null,
   "metadata": {},
   "outputs": [],
   "source": [
    "cursor.execute(master_varchar_tmp_table_query)"
   ]
  },
  {
   "cell_type": "code",
   "execution_count": null,
   "metadata": {},
   "outputs": [],
   "source": [
    "con.commit()"
   ]
  },
  {
   "cell_type": "code",
   "execution_count": null,
   "metadata": {},
   "outputs": [],
   "source": []
  }
 ],
 "metadata": {
  "kernelspec": {
   "display_name": "Python 3",
   "language": "python",
   "name": "python3"
  },
  "language_info": {
   "codemirror_mode": {
    "name": "ipython",
    "version": 3
   },
   "file_extension": ".py",
   "mimetype": "text/x-python",
   "name": "python",
   "nbconvert_exporter": "python",
   "pygments_lexer": "ipython3",
   "version": "3.6.5"
  }
 },
 "nbformat": 4,
 "nbformat_minor": 2
}
